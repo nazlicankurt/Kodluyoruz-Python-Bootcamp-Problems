{
 "cells": [
  {
   "cell_type": "markdown",
   "metadata": {},
   "source": [
    "# Bölüm A"
   ]
  },
  {
   "cell_type": "markdown",
   "metadata": {},
   "source": [
    "İki oyunculu bir Taş-Kağıt-Makas oyunu yapalım.\n",
    "\n",
    "**İpucu:** \n",
    "\n",
    "Oyuncudan oyunlarını isteyip (`input()` kullanarak), karşılaştıralım, kazananı tebrik eden bir mesaj yazdıralım ve oyuncuların yeni bir oyuna başlamak isteyip istemediğini soralım)"
   ]
  },
  {
   "cell_type": "markdown",
   "metadata": {},
   "source": [
    "# Çözüm"
   ]
  },
  {
   "cell_type": "code",
   "execution_count": 4,
   "metadata": {},
   "outputs": [
    {
     "name": "stdout",
     "output_type": "stream",
     "text": [
      "\n",
      "\n",
      "Seçimini yap: Taş Kağıt Makas > Makas\n",
      "\n",
      "Seçimin: Makas -- Bilgisayarın seçimi: Makas \n",
      "\n",
      "Berabere!\n",
      "\n",
      "Çıkmak için (q), Yeniden oynamak için (Enter)>q\n"
     ]
    }
   ],
   "source": [
    "import random \n",
    "dictionary = {\n",
    "        \"taş\" : 1,\n",
    "        \"makas\" : 2,\n",
    "        \"kağıt\" : 3\n",
    "        }\n",
    "silahlar = list(dictionary.keys())\n",
    "değerler = list(dictionary.values())\n",
    "while True:\n",
    "    while True:\n",
    "        seçim = input(\"\\n\\nSeçimini yap: Taş Kağıt Makas > \").casefold() # casefold karakterleri sözlük karşılaştırması için girdiyi küçük harfe çeviriyor. Bu sayede TaŞ, MakAS gibi girdileri de kabul ediyor\n",
    "        if seçim in silahlar:\n",
    "            break\n",
    "        else: \n",
    "        \tprint(\"Yanlış girdin. Bir daha dene\")\n",
    "    randomNumber = random.randrange(1,4) # 1<= sayi <4 arası rasgele integer üretiyor https://docs.python.org/3/library/random.html\n",
    "    bilgisayarın_seçimi = silahlar[değerler.index(randomNumber)]  # index() methodu sözlükteki değerin anahtarını döndürüyor\n",
    "    seçimler = \"\\nSeçimin: \" + seçim.capitalize() + \" -- Bilgisayarın seçimi: \" + bilgisayarın_seçimi.capitalize()\n",
    "\n",
    "    if bilgisayarın_seçimi == seçim:\n",
    "        print(seçimler, \"\\n\\nBerabere!\\n\")\n",
    "    elif ((bilgisayarın_seçimi == \"makas\" and seçim == \"kağıt\") or \n",
    "    (bilgisayarın_seçimi == \"taş\" and seçim == \"makas\") or \n",
    "    (bilgisayarın_seçimi == \"kağıt\" and seçim == \"taş\")):\n",
    "        print(seçimler, \"\\n\\nBilgisayar kazandı!\\n\")\n",
    "    else:\n",
    "        print(seçimler, \"\\n\\nSen kazandın!\\n\")\n",
    "    replay = input(\"Çıkmak için (q), Yeniden oynamak için (Enter)>\")\n",
    "\n",
    "    if replay.casefold() == \"q\":\n",
    "        break"
   ]
  },
  {
   "cell_type": "markdown",
   "metadata": {},
   "source": [
    "# Bölüm B"
   ]
  },
  {
   "cell_type": "markdown",
   "metadata": {},
   "source": [
    "Diyelim ki bize bir değişkene kaydedilmiş bir liste vermiş olsunlar: `a = [1, 4, 9, 16, 25, 36, 49, 64, 81, 100]`. Bu listeyi alan ve içinde bu listenin yalnızca çift öğelerini içeren yeni bir liste oluşturan bir Python satırı yazın (ne kadar az satırda olursa o kadar iyidir :) )."
   ]
  },
  {
   "cell_type": "markdown",
   "metadata": {},
   "source": [
    "# Çözüm"
   ]
  },
  {
   "cell_type": "code",
   "execution_count": 6,
   "metadata": {},
   "outputs": [
    {
     "name": "stdout",
     "output_type": "stream",
     "text": [
      "b = [4, 16, 36, 64, 100]\n"
     ]
    }
   ],
   "source": [
    "a = [1, 4, 9, 16, 25, 36, 49, 64, 81, 100]\n",
    "çift_sayılar= [num for num in a if num % 2 == 0]\n",
    "print(\"b \" + \"=\",çift_sayılar)"
   ]
  }
 ],
 "metadata": {
  "kernelspec": {
   "display_name": "Python 3",
   "language": "python",
   "name": "python3"
  },
  "language_info": {
   "codemirror_mode": {
    "name": "ipython",
    "version": 3
   },
   "file_extension": ".py",
   "mimetype": "text/x-python",
   "name": "python",
   "nbconvert_exporter": "python",
   "pygments_lexer": "ipython3",
   "version": "3.7.6"
  }
 },
 "nbformat": 4,
 "nbformat_minor": 4
}
