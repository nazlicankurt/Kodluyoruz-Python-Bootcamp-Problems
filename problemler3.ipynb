{
 "cells": [
  {
   "cell_type": "markdown",
   "metadata": {},
   "source": [
    "# Bölüm A"
   ]
  },
  {
   "cell_type": "markdown",
   "metadata": {},
   "source": [
    "Bu alıştırma için arkadaşlarımızın doğum günlerinin ne zaman olduğunu takip edeceğiz ve bu bilgileri isimlerine göre bulabileceğiz. İsim ve doğum günlerinden oluşan bir sözlük (dosyası) oluşturalım. Programımızı çalıştırdığınızda, kullanıcıdan bir isim girmesini ve o kişinin doğum gününü kendisine bildirmesini istemelidir. Etkileşim şunun gibi görünmelidir:\n",
    "\n",
    "```python\n",
    ">>> Doğum günü sözlüğüne hoş geldiniz. Bu kişilerin doğum günlerini biliyoruz:\n",
    "Kemal Sunal\n",
    "Adile Naşit\n",
    "Münir Özkul\n",
    "Türkan Şoray\n",
    ">>> Hangisinin doğum gününü öğrenmek istersin?\n",
    "Türkan Şoray\n",
    ">>> Türkan Şoray'ın doğum günü 28/07/1945.\n",
    "```"
   ]
  },
  {
   "cell_type": "markdown",
   "metadata": {},
   "source": [
    "# Çözüm"
   ]
  },
  {
   "cell_type": "code",
   "execution_count": 1,
   "metadata": {},
   "outputs": [
    {
     "name": "stdout",
     "output_type": "stream",
     "text": [
      "Doğum günü sözlüğüme hoşgeldiniz!\n",
      "Bu kişilerin doğum günlerini öğrenebilirsin: \n",
      "Kemal Sunal\n",
      "Adile Naşit\n",
      "Münir Özkul\n",
      "Türkan Şoray\n",
      "Kimin dogum gününü öğrenmek istersin? Münir Özkul\n",
      "Münir Özkul'in doğum günü 15/08/1925.\n"
     ]
    }
   ],
   "source": [
    "\n",
    "# burada bir dictionary oluşturdum cumartesi gördüğümüz ders,\n",
    "#Sözlükler, listelerin genelleştirilmiş halidir: Listelerde elemanların\n",
    "#referanslarının sıfırdan başlayan tamsayılar olması gerekirken, sözlüklerde\n",
    "#ise çok değişik veri tipleri her şey referans olarak kullanılabilir. \n",
    "#Bu tür veri tipleri hash table, hash map, veya associative array olarak da bilinirler.\n",
    "sozluk ={\n",
    "   \"Kemal Sunal\" : \"10/11/1944\",\n",
    "    \"Adile Naşit\" : \"17/06/1930\",\n",
    "    \"Münir Özkul\" : \"15/08/1925\",\n",
    "    \"Türkan Şoray\" : \"28/06/1945\"\n",
    "}\n",
    "#keys methodu mesela mehmet key ama dogum tarihi valuedur. listeden keyleri aldım\n",
    "liste = sozluk.keys()\n",
    "\n",
    "print(\"Doğum günü sözlüğüme hoşgeldiniz!\\nBu kişilerin doğum günlerini öğrenebilirsin: \");\n",
    "#for ile isimleri döndürdüm\n",
    "for x in liste:\n",
    "    print(x)\n",
    "\n",
    "#secim. if'de listenin içinde bulunan hangi isim olursa ona eşitledim.\n",
    "secim =input(\"Kimin dogum gününü öğrenmek istersin? \")\n",
    "#format methodu içinde bulunan değerleri kıvırcık parantez içinde gösterir\n",
    "if secim in liste:\n",
    "    print(\"{}'in doğum günü {}.\".format(secim, sozluk[secim]))\n",
    "    \n",
    "elif secim !=liste: \n",
    "    print(\"Maalesef yazdığın {} ismine ait doğum günü bilgisi yok!.\".format(secim))\n",
    "\n"
   ]
  },
  {
   "cell_type": "markdown",
   "metadata": {},
   "source": [
    "# Bölüm B"
   ]
  },
  {
   "cell_type": "markdown",
   "metadata": {},
   "source": [
    "Bir Pisagor üçlüsü, üç doğal sayı kümesidir, $a <b <c$, için,\n",
    "\n",
    "$$a^{2}+b^{2}=c^{2}$$\n",
    "\n",
    "Örneğin, $3^{2}+4^{2} = 9+16 = 5^{2}$\n",
    "\n",
    "Toplamı $a + b + c = 1000$ olan tam olarak bir Pisagor üçlüsü vardır.\n",
    "\n",
    "$abc$ çarpımını bulalım."
   ]
  },
  {
   "cell_type": "markdown",
   "metadata": {},
   "source": [
    "# Çözüm"
   ]
  },
  {
   "cell_type": "code",
   "execution_count": 3,
   "metadata": {},
   "outputs": [
    {
     "name": "stdout",
     "output_type": "stream",
     "text": [
      "31875000\n"
     ]
    }
   ],
   "source": [
    "toplam, found = 1000, 0\n",
    "\n",
    "# https://www.dcode.fr/pythagore-triple burada açıklama mevcut fakat b'nin sınırı yanlış yazılmış, s-a değil s-2 olacak\n",
    "# soru StackOverflow'da sorulmuş: https://stackoverflow.com/questions/2817848/find-pythagorean-triplet-for-which-a-b-c-1000\n",
    "# burada k ve m nin bulunma sebebi iterasyon sayısını azaltmak, içerideki döngü a+1 den başladığı için a her zaman b den küçük\n",
    "\n",
    "k = int((toplam-3)/3)\n",
    "m = int((toplam-2)/2)\n",
    "for a in range(1, k): # a, 1 den k ya kadar itere ediliyor\n",
    "    for b in range(a+1, m): # b > a olduğundan bu döngü her zaman a'dan büyük şekilde ilerliyor\n",
    "        c = toplam - a - b # a + b + c = 1000 iken c = 1000 - a - b şeklinde yazılabilir\n",
    "        if c ** 2 == a ** 2 + b ** 2: # değerlerin pisagor üçlüsü olup olmadığını kontrol ediyoruz\n",
    "            #print(a, b, c)\n",
    "            print(a * b * c)\n",
    "            found += 1\n",
    "            break\n",
    "    if found == 1:\n",
    "        break\n",
    "\n"
   ]
  }
 ],
 "metadata": {
  "kernelspec": {
   "display_name": "Python 3",
   "language": "python",
   "name": "python3"
  },
  "language_info": {
   "codemirror_mode": {
    "name": "ipython",
    "version": 3
   },
   "file_extension": ".py",
   "mimetype": "text/x-python",
   "name": "python",
   "nbconvert_exporter": "python",
   "pygments_lexer": "ipython3",
   "version": "3.7.6"
  }
 },
 "nbformat": 4,
 "nbformat_minor": 4
}
